{
 "cells": [
  {
   "cell_type": "code",
   "execution_count": null,
   "id": "75RMBf0ujo2J",
   "metadata": {
    "id": "75RMBf0ujo2J"
   },
   "outputs": [],
   "source": [
    "# Copyright 2024 Google LLC\n",
    "#\n",
    "# Licensed under the Apache License, Version 2.0 (the \"License\");\n",
    "# you may not use this file except in compliance with the License.\n",
    "# You may obtain a copy of the License at\n",
    "#\n",
    "#     https://www.apache.org/licenses/LICENSE-2.0\n",
    "#\n",
    "# Unless required by applicable law or agreed to in writing, software\n",
    "# distributed under the License is distributed on an \"AS IS\" BASIS,\n",
    "# WITHOUT WARRANTIES OR CONDITIONS OF ANY KIND, either express or implied.\n",
    "# See the License for the specific language governing permissions and\n",
    "# limitations under the License."
   ]
  },
  {
   "cell_type": "markdown",
   "id": "cd2cc7c0-7353-43ef-9fd1-c0280f78673f",
   "metadata": {
    "id": "cd2cc7c0-7353-43ef-9fd1-c0280f78673f"
   },
   "source": [
    "<table class=\"tfo-notebook-buttons\" align=\"left\">\n",
    "  <td>\n",
    "    <a target=\"_blank\" href=\"https://colab.sandbox.google.com/github/https-deeplearning-ai/sc-gc-c4-gemini-public/blob/main/lesson-6/L6_colab_function_calling.ipynb\"><img src=\"https://www.tensorflow.org/images/colab_logo_32px.png\" />Run in Google Colab</a>\n",
    "  </td>\n",
    "</table>"
   ]
  },
  {
   "cell_type": "markdown",
   "id": "b6d6fced-1863-4f97-bbe5-7847e9974f91",
   "metadata": {
    "id": "b6d6fced-1863-4f97-bbe5-7847e9974f91"
   },
   "source": [
    "# Cost Estimate\n",
    "\n",
    "The estimated cost for running this notebook once using your Google Cloud account should be less than 0.10 USD (as of August 2024). Get the latest Gemini costs [here](https://cloud.google.com/vertex-ai/generative-ai/pricing).\n"
   ]
  },
  {
   "cell_type": "markdown",
   "id": "BNRE-TWSGBQP",
   "metadata": {
    "id": "BNRE-TWSGBQP"
   },
   "source": [
    "# SETUP\n",
    "\n",
    "This is follow up to the [How to Set Up your Google Cloud Account](https://learn.deeplearning.ai/courses/large-multimodal-model-prompting-with-gemini/lesson/9/how-to-set-up-your-google-cloud-account-|-try-it-out-yourself-[optional]) instructions from the course, [Large Multimodal Model Prompting with Gemini](https://learn.deeplearning.ai/courses/large-multimodal-model-prompting-with-gemini/lesson/1/introduction) on the [Learning Platform](https://learn.deeplearning.ai) of [DeepLearning.AI](https://www.deeplearning.ai)."
   ]
  },
  {
   "cell_type": "markdown",
   "id": "r_vZcJ0ljqQF",
   "metadata": {
    "id": "r_vZcJ0ljqQF"
   },
   "source": [
    "### Install Vertex AI SDK and other required packages"
   ]
  },
  {
   "cell_type": "code",
   "execution_count": 1,
   "id": "Qa0cICi8jr7t",
   "metadata": {
    "id": "Qa0cICi8jr7t"
   },
   "outputs": [],
   "source": [
    "%pip install --upgrade --user --quiet google-cloud-aiplatform"
   ]
  },
  {
   "cell_type": "markdown",
   "id": "5P6gfzZHjtsg",
   "metadata": {
    "id": "5P6gfzZHjtsg"
   },
   "source": [
    "### Restart Runtime\n",
    "\n",
    "To use the newly installed packages in this Jupyter runtime, you must restart the runtime. You can do this by running the cell below, which restarts the current kernel.\n",
    "\n",
    "The restart might take a minute or longer. After it's restarted, continue to the next step."
   ]
  },
  {
   "cell_type": "code",
   "execution_count": 2,
   "id": "4WedyC6cjvfI",
   "metadata": {
    "colab": {
     "base_uri": "https://localhost:8080/"
    },
    "id": "4WedyC6cjvfI",
    "outputId": "d31950dc-d93d-4034-d6e1-bf4221ac50bc"
   },
   "outputs": [
    {
     "data": {
      "text/plain": [
       "{'status': 'ok', 'restart': True}"
      ]
     },
     "execution_count": 2,
     "metadata": {},
     "output_type": "execute_result"
    }
   ],
   "source": [
    "import IPython\n",
    "\n",
    "app = IPython.Application.instance()\n",
    "app.kernel.do_shutdown(True)"
   ]
  },
  {
   "cell_type": "markdown",
   "id": "KScsdIZojxLe",
   "metadata": {
    "id": "KScsdIZojxLe"
   },
   "source": [
    "### Authenticate your Notebook Environment (Colab Only)\n",
    "\n",
    "If you're running this notebook on Google Colab, run the cell below to authenticate your environment.\n",
    "\n",
    "**NOTE:** The Gmail email address you use to authenticate this lesson colab must be the same as the one you used to set up your Google Cloud account and your Project."
   ]
  },
  {
   "cell_type": "code",
   "execution_count": 1,
   "id": "je1viwcjjzdB",
   "metadata": {
    "id": "je1viwcjjzdB"
   },
   "outputs": [],
   "source": [
    "import sys\n",
    "\n",
    "if \"google.colab\" in sys.modules:\n",
    "    from google.colab import auth\n",
    "\n",
    "    auth.authenticate_user()"
   ]
  },
  {
   "cell_type": "markdown",
   "id": "58n9oUNpj1BE",
   "metadata": {
    "id": "58n9oUNpj1BE"
   },
   "source": [
    "### Set Google Cloud Project Information and Initialize Vertex AI SDK\n",
    "\n",
    "**Add _your_ Project ID below**, which you created while following the [How to Set Up your Google Cloud Account](https://learn.deeplearning.ai/courses/large-multimodal-model-prompting-with-gemini/lesson/9/how-to-set-up-your-google-cloud-account-|-try-it-out-yourself-[optional]) instructions. If your `Project ID` was `dlai-shortcourse-on-gemini`, then you can run the cell below as it is. Otherwise, be sure to change it.\n",
    "\n",
    "You can also look up your Project ID in your [Project Dashboard](https://console.cloud.google.com/projectselector2/home/dashboard)."
   ]
  },
  {
   "cell_type": "code",
   "execution_count": 2,
   "id": "RsXUDCRoj2nV",
   "metadata": {
    "id": "RsXUDCRoj2nV"
   },
   "outputs": [],
   "source": [
    "PROJECT_ID = \"dlai-shortcourse-on-gemini\"  # @param {type:\"string\"}\n",
    "LOCATION = \"us-central1\"  # @param {type:\"string\"}\n",
    "\n",
    "\n",
    "import vertexai\n",
    "\n",
    "vertexai.init(project=PROJECT_ID, location=LOCATION)"
   ]
  },
  {
   "cell_type": "markdown",
   "id": "O2hSpUpWGkXq",
   "metadata": {
    "id": "O2hSpUpWGkXq"
   },
   "source": [
    "# IN COURSE VIDEO\n",
    "\n",
    "Lesson video starts from below."
   ]
  },
  {
   "cell_type": "markdown",
   "id": "df320e96-2aae-473b-875a-0494d86c5ff6",
   "metadata": {
    "id": "df320e96-2aae-473b-875a-0494d86c5ff6"
   },
   "source": [
    "# [Lesson 6: Integrating Real-Time Data with Function Calling](https://learn.deeplearning.ai/courses/large-multimodal-model-prompting-with-gemini/lesson/7/integrating-real-time-data-with-function-calling)\n",
    "\n",
    "In this lesson, you'll learn how to integrate real-time data with function calling to get a response from LLMs."
   ]
  },
  {
   "cell_type": "markdown",
   "id": "4740a20b-ce08-4c71-b97c-234b8ce855bb",
   "metadata": {
    "id": "4740a20b-ce08-4c71-b97c-234b8ce855bb"
   },
   "source": [
    "## Asking for Real-Time Information from LLMs"
   ]
  },
  {
   "cell_type": "code",
   "execution_count": 3,
   "id": "cb1608cb-88dd-4f96-96a2-30a7edca782b",
   "metadata": {
    "id": "cb1608cb-88dd-4f96-96a2-30a7edca782b",
    "tags": []
   },
   "outputs": [],
   "source": [
    "from vertexai.generative_models import GenerativeModel"
   ]
  },
  {
   "cell_type": "markdown",
   "id": "c08ebb50-9eb8-4bc4-b866-4f87ad876ef6",
   "metadata": {
    "id": "c08ebb50-9eb8-4bc4-b866-4f87ad876ef6"
   },
   "source": [
    "Please note that Google's Gemini model `gemini-1.5-flash-001` [is being deprecated (soon)](https://cloud.google.com/vertex-ai/generative-ai/docs/deprecations). Therefore, it is necessary to switch to the recommended replacement model, `gemini-2.0-flash-lite`.\n",
    "\n",
    "- Load the [gemini-2.0-flash-lite](https://ai.google.dev/gemini-api/docs/models#gemini-2.0-flash-lite) model."
   ]
  },
  {
   "cell_type": "code",
   "execution_count": 4,
   "id": "3a1347c1-58ca-49e7-b2ed-32b7a5e75996",
   "metadata": {
    "id": "3a1347c1-58ca-49e7-b2ed-32b7a5e75996"
   },
   "outputs": [],
   "source": [
    "model = GenerativeModel(\"gemini-2.0-flash-lite\")"
   ]
  },
  {
   "cell_type": "markdown",
   "id": "21047d4e-b00e-4b71-95c3-1d1126feae37",
   "metadata": {
    "id": "21047d4e-b00e-4b71-95c3-1d1126feae37"
   },
   "source": [
    "- You are asking for information based on today's date.\n",
    "\n",
    "**UPDATE**: The newer `gemini-2.0-flash-lite` model *might* actually output today's exchange rate when you run the cells below."
   ]
  },
  {
   "cell_type": "code",
   "execution_count": 5,
   "id": "0fa18c35-3853-4ece-8c5d-5ca979ef0bca",
   "metadata": {
    "id": "0fa18c35-3853-4ece-8c5d-5ca979ef0bca"
   },
   "outputs": [],
   "source": [
    "response = model.generate_content(\n",
    "    \"What's the exchange rate for euros to dollars today?\"\n",
    ")"
   ]
  },
  {
   "cell_type": "code",
   "execution_count": 6,
   "id": "23d2f074-7282-4862-b953-f14993d0c518",
   "metadata": {
    "colab": {
     "base_uri": "https://localhost:8080/"
    },
    "id": "23d2f074-7282-4862-b953-f14993d0c518",
    "outputId": "f0986903-5acc-4c64-ab1b-ca1d488cc346",
    "tags": []
   },
   "outputs": [
    {
     "name": "stdout",
     "output_type": "stream",
     "text": [
      "Unfortunately, I do not have access to real-time information, including live exchange rates. The exchange rate between euros and dollars fluctuates constantly throughout the day.\n",
      "\n",
      "To find the current exchange rate, I recommend checking one of the following sources:\n",
      "\n",
      "*   **A reputable financial website:** such as Google Finance, Yahoo Finance, Bloomberg, or Reuters.\n",
      "*   **A currency converter website:** Many websites offer currency conversion tools that update in real-time.\n",
      "*   **Your bank's website or app:** Most banks provide current exchange rates.\n",
      "\n",
      "\n"
     ]
    }
   ],
   "source": [
    "print(response.text)"
   ]
  },
  {
   "cell_type": "markdown",
   "id": "3a1c7d37-3123-4557-93c1-a9e34ee0aa97",
   "metadata": {
    "id": "3a1c7d37-3123-4557-93c1-a9e34ee0aa97"
   },
   "source": [
    "## Function Calling with LLMs"
   ]
  },
  {
   "cell_type": "markdown",
   "id": "5d2b0b4c-28ea-4167-b0a0-fff3aad401a5",
   "metadata": {
    "id": "5d2b0b4c-28ea-4167-b0a0-fff3aad401a5"
   },
   "source": [
    "- [Frankfurter](https://www.frankfurter.app), an open source API, lets you fetch current and historical foreign exchange rates published by the European Central Bank."
   ]
  },
  {
   "cell_type": "code",
   "execution_count": 7,
   "id": "5bd35574-bf2b-427b-9251-0afc70ce794c",
   "metadata": {
    "id": "5bd35574-bf2b-427b-9251-0afc70ce794c"
   },
   "outputs": [],
   "source": [
    "url = \"https://api.frankfurter.app/latest\""
   ]
  },
  {
   "cell_type": "code",
   "execution_count": 8,
   "id": "db309826-d550-4d41-a275-b2b8e517ce7c",
   "metadata": {
    "id": "db309826-d550-4d41-a275-b2b8e517ce7c"
   },
   "outputs": [],
   "source": [
    "import requests"
   ]
  },
  {
   "cell_type": "markdown",
   "id": "ed229fd3-630b-4508-b30f-a448af4c4534",
   "metadata": {
    "id": "ed229fd3-630b-4508-b30f-a448af4c4534"
   },
   "source": [
    "- Get the response from Frankfurter for latest/today's exchange rates.\n",
    "- The base currency is in Euros."
   ]
  },
  {
   "cell_type": "code",
   "execution_count": 9,
   "id": "edcd39f6-5b9a-4133-b680-a0410ba2fff9",
   "metadata": {
    "id": "edcd39f6-5b9a-4133-b680-a0410ba2fff9",
    "tags": []
   },
   "outputs": [],
   "source": [
    "response = requests.get(url)"
   ]
  },
  {
   "cell_type": "markdown",
   "id": "9da4c3a5-69f7-43e3-b4c6-86919b3b4443",
   "metadata": {
    "id": "9da4c3a5-69f7-43e3-b4c6-86919b3b4443"
   },
   "source": [
    "**Note**: The exchange rates you will see are of the current date you are running this lab, hence they will likely differ from the exchange rates you see in the lecture video."
   ]
  },
  {
   "cell_type": "code",
   "execution_count": 10,
   "id": "9685cc85-7175-45cb-b31b-01c06bcf0cf2",
   "metadata": {
    "colab": {
     "base_uri": "https://localhost:8080/",
     "height": 86
    },
    "id": "9685cc85-7175-45cb-b31b-01c06bcf0cf2",
    "outputId": "abf5da1c-7e5c-4b7c-94a3-68b6384f5ab3"
   },
   "outputs": [
    {
     "data": {
      "application/vnd.google.colaboratory.intrinsic+json": {
       "type": "string"
      },
      "text/plain": [
       "'{\"amount\":1.0,\"base\":\"EUR\",\"date\":\"2025-04-03\",\"rates\":{\"AUD\":1.7448,\"BGN\":1.9558,\"BRL\":6.2411,\"CAD\":1.5636,\"CHF\":0.9538,\"CNY\":8.0919,\"CZK\":24.972,\"DKK\":7.4613,\"GBP\":0.84163,\"HKD\":8.6311,\"HUF\":401.58,\"IDR\":18548,\"ILS\":4.0919,\"INR\":94.63,\"ISK\":144.7,\"JPY\":162.17,\"KRW\":1615.11,\"MXN\":22.223,\"MYR\":4.9293,\"NOK\":11.4235,\"NZD\":1.9047,\"PHP\":63.295,\"PLN\":4.196,\"RON\":4.9774,\"SEK\":10.7205,\"SGD\":1.4804,\"THB\":38.046,\"TRY\":42.097,\"USD\":1.1097,\"ZAR\":20.952}}'"
      ]
     },
     "execution_count": 10,
     "metadata": {},
     "output_type": "execute_result"
    }
   ],
   "source": [
    "response.text"
   ]
  },
  {
   "cell_type": "code",
   "execution_count": 11,
   "id": "651fb062-b2d1-4a0c-b099-9b1306522d83",
   "metadata": {
    "id": "651fb062-b2d1-4a0c-b099-9b1306522d83",
    "tags": []
   },
   "outputs": [],
   "source": [
    "from vertexai.generative_models import (\n",
    "    Content,\n",
    "    FunctionDeclaration,\n",
    "    GenerationConfig,\n",
    "    GenerativeModel,\n",
    "    Part,\n",
    "    Tool,\n",
    ")"
   ]
  },
  {
   "cell_type": "markdown",
   "id": "46ffc243-f712-430a-863b-b1878c123da1",
   "metadata": {
    "id": "46ffc243-f712-430a-863b-b1878c123da1"
   },
   "source": [
    "### Declaring Functions\n",
    "\n",
    "- `FunctionDeclaration` lets you create functions for LLMs.\n",
    "- In this example of exchange rates, the input parameters for the REST API are:\n",
    "    - `currency_from` : String : Currency to convert from\n",
    "    - `currency_to` : String : Currency to convert to\n",
    "    - `currency_date` : String : Date to fetch the exchange rate for\n",
    "- The currency codes must be in [ISO 4217](https://www.iban.com/currency-codes) format (for example, \"EUR\" for Euros)"
   ]
  },
  {
   "cell_type": "code",
   "execution_count": 12,
   "id": "3d0e7084-8078-4d6a-bffb-edbf75d8f815",
   "metadata": {
    "id": "3d0e7084-8078-4d6a-bffb-edbf75d8f815",
    "tags": []
   },
   "outputs": [],
   "source": [
    "get_exchange_rate_func = FunctionDeclaration(\n",
    "    name=\"get_exchange_rate\",\n",
    "    description=\"Get the exchange rate for currencies \"\n",
    "                \"between countries\",\n",
    "    parameters={\n",
    "        \"type\": \"object\",\n",
    "        \"properties\": {\n",
    "            \"currency_date\": {\n",
    "                \"type\": \"string\",\n",
    "                \"description\": \"A date that must always be in \"\n",
    "                               \"YYYY-MM-DD format or the value \"\n",
    "                               \"'latest' if a time period is not \"\n",
    "                               \"specified\"\n",
    "            },\n",
    "            \"currency_from\": {\n",
    "                \"type\": \"string\",\n",
    "                \"description\": \"The currency to convert from \"\n",
    "                               \"in ISO 4217 format\"\n",
    "            },\n",
    "            \"currency_to\": {\n",
    "                \"type\": \"string\",\n",
    "                \"description\": \"The currency to convert to \"\n",
    "                               \"in ISO 4217 format\"\n",
    "            }\n",
    "        },\n",
    "        \"required\": [\n",
    "            \"currency_from\",\n",
    "            \"currency_date\",\n",
    "        ]\n",
    "    },\n",
    ")"
   ]
  },
  {
   "cell_type": "markdown",
   "id": "c914d748-8c07-4a2c-8cf0-1b93a3ba408f",
   "metadata": {
    "id": "c914d748-8c07-4a2c-8cf0-1b93a3ba408f"
   },
   "source": [
    "### Define a Tool"
   ]
  },
  {
   "cell_type": "markdown",
   "id": "f6d3845b-950d-4e64-9009-59de57cb0f5f",
   "metadata": {
    "id": "f6d3845b-950d-4e64-9009-59de57cb0f5f"
   },
   "source": [
    "- `Tool` includes the function declaration that the model uses to generate a response."
   ]
  },
  {
   "cell_type": "code",
   "execution_count": 13,
   "id": "1a408691-6117-4aeb-89e7-acac0628c9fc",
   "metadata": {
    "id": "1a408691-6117-4aeb-89e7-acac0628c9fc",
    "tags": []
   },
   "outputs": [],
   "source": [
    "exchange_rate_tool = Tool(\n",
    "    function_declarations=[get_exchange_rate_func],\n",
    ")"
   ]
  },
  {
   "cell_type": "markdown",
   "id": "68fc4394-ccb8-4fc0-9665-07273616aa32",
   "metadata": {
    "id": "68fc4394-ccb8-4fc0-9665-07273616aa32"
   },
   "source": [
    "- Now that you have declared a Function and define your Tool, let's see how the model responses to your prompt.\n",
    "\n",
    "**UPDATE:** For the newer `gemini-2.0-flash-lite` model, you have to explicilty mention in the prompt that you are wishing to execute a function call. Oterwise, it will not make the call (i.e. it will not return any arguments)."
   ]
  },
  {
   "cell_type": "code",
   "execution_count": 14,
   "id": "2dd9ff46-a67d-4105-94be-197d4e1c7e8d",
   "metadata": {
    "id": "2dd9ff46-a67d-4105-94be-197d4e1c7e8d",
    "tags": []
   },
   "outputs": [],
   "source": [
    "prompt = \"\"\"What is the exchange rate from Australian dollars to\n",
    "Swedish krona? How much is 500 Australian dollars worth in\n",
    "Swedish krona?\n",
    "Please use the 'get_exchange_rate' function to retrieve the latest exchange rate and then calculate the converted amount.\n",
    "It is crucial to use the function to get the most up-to-date information\"\"\""
   ]
  },
  {
   "cell_type": "code",
   "execution_count": 15,
   "id": "03d1648d-9054-4739-87f3-765c06b69de4",
   "metadata": {
    "id": "03d1648d-9054-4739-87f3-765c06b69de4"
   },
   "outputs": [],
   "source": [
    "response = model.generate_content(\n",
    "    prompt,\n",
    "    tools=[exchange_rate_tool],\n",
    ")"
   ]
  },
  {
   "cell_type": "code",
   "execution_count": 16,
   "id": "5ee09941-64b1-4138-97b1-f6e1720ea362",
   "metadata": {
    "colab": {
     "base_uri": "https://localhost:8080/"
    },
    "id": "5ee09941-64b1-4138-97b1-f6e1720ea362",
    "outputId": "c3faaaf6-cad6-4d48-d494-24794d1aebed",
    "tags": []
   },
   "outputs": [
    {
     "data": {
      "text/plain": [
       "role: \"model\"\n",
       "parts {\n",
       "  function_call {\n",
       "    name: \"get_exchange_rate\"\n",
       "    args {\n",
       "      fields {\n",
       "        key: \"currency_to\"\n",
       "        value {\n",
       "          string_value: \"SEK\"\n",
       "        }\n",
       "      }\n",
       "      fields {\n",
       "        key: \"currency_from\"\n",
       "        value {\n",
       "          string_value: \"AUD\"\n",
       "        }\n",
       "      }\n",
       "      fields {\n",
       "        key: \"currency_date\"\n",
       "        value {\n",
       "          string_value: \"latest\"\n",
       "        }\n",
       "      }\n",
       "    }\n",
       "  }\n",
       "}"
      ]
     },
     "execution_count": 16,
     "metadata": {},
     "output_type": "execute_result"
    }
   ],
   "source": [
    "response.candidates[0].content"
   ]
  },
  {
   "cell_type": "markdown",
   "id": "a94a1c3f-48f5-47eb-bfb3-00eedcec50b1",
   "metadata": {
    "id": "a94a1c3f-48f5-47eb-bfb3-00eedcec50b1"
   },
   "source": [
    "### External API Call\n",
    "\n",
    "- The model does not make the external API call for you.\n",
    "- Use `requests` library in Python to make that call for you.\n",
    "- Turn the model response into a Python Dictionary."
   ]
  },
  {
   "cell_type": "code",
   "execution_count": 17,
   "id": "0cc555ae-f92a-4eed-a0a0-48cee2892bd2",
   "metadata": {
    "colab": {
     "base_uri": "https://localhost:8080/"
    },
    "id": "0cc555ae-f92a-4eed-a0a0-48cee2892bd2",
    "outputId": "94073e0c-fe97-4367-c4be-588df5c881a8",
    "tags": []
   },
   "outputs": [
    {
     "data": {
      "text/plain": [
       "{'from': 'AUD', 'date': 'latest', 'to': 'SEK'}"
      ]
     },
     "execution_count": 17,
     "metadata": {},
     "output_type": "execute_result"
    }
   ],
   "source": [
    "params = {}\n",
    "for key, value in response.candidates[0].content.parts[0]\\\n",
    "                          .function_call.args.items():\n",
    "    params[key[9:]] = value\n",
    "params"
   ]
  },
  {
   "cell_type": "code",
   "execution_count": 18,
   "id": "43371b4b-f977-40ca-a94d-6b5266c95665",
   "metadata": {
    "id": "43371b4b-f977-40ca-a94d-6b5266c95665"
   },
   "outputs": [],
   "source": [
    "url = f\"https://api.frankfurter.app/{params['date']}\""
   ]
  },
  {
   "cell_type": "code",
   "execution_count": 19,
   "id": "d6526d79-0d51-4975-b13d-bd32af5991af",
   "metadata": {
    "id": "d6526d79-0d51-4975-b13d-bd32af5991af"
   },
   "outputs": [],
   "source": [
    "api_response = requests.get(url, params=params)"
   ]
  },
  {
   "cell_type": "markdown",
   "id": "e072e5da-d25b-42bc-819c-933c48343074",
   "metadata": {
    "id": "e072e5da-d25b-42bc-819c-933c48343074"
   },
   "source": [
    "**Note**: The exchange rates you will see are of the current date you are running this lab, hence they will likely differ from the exchange rates you see in the lecture video."
   ]
  },
  {
   "cell_type": "code",
   "execution_count": 20,
   "id": "9904cf99-a1d8-4abb-a993-1a9870e82395",
   "metadata": {
    "colab": {
     "base_uri": "https://localhost:8080/",
     "height": 35
    },
    "id": "9904cf99-a1d8-4abb-a993-1a9870e82395",
    "outputId": "707750c1-a936-4f6d-fdd4-ee271e994d11"
   },
   "outputs": [
    {
     "data": {
      "application/vnd.google.colaboratory.intrinsic+json": {
       "type": "string"
      },
      "text/plain": [
       "'{\"amount\":1.0,\"base\":\"AUD\",\"date\":\"2025-04-03\",\"rates\":{\"SEK\":6.1443}}'"
      ]
     },
     "execution_count": 20,
     "metadata": {},
     "output_type": "execute_result"
    }
   ],
   "source": [
    "api_response.text"
   ]
  },
  {
   "cell_type": "markdown",
   "id": "144536e4-19eb-4ab1-a725-4b5bf7261a5b",
   "metadata": {
    "id": "144536e4-19eb-4ab1-a725-4b5bf7261a5b"
   },
   "source": [
    "### Passing the Information Back to the LLM"
   ]
  },
  {
   "cell_type": "code",
   "execution_count": 21,
   "id": "498a0dbd-8c2c-4910-8cd7-c73b7f075cb0",
   "metadata": {
    "id": "498a0dbd-8c2c-4910-8cd7-c73b7f075cb0"
   },
   "outputs": [],
   "source": [
    "response = model.generate_content(\n",
    "    [\n",
    "    Content(role=\"user\", parts=[\n",
    "        Part.from_text(prompt),\n",
    "    ]),\n",
    "    Content(role=\"function\", parts=[\n",
    "        Part.from_dict({\n",
    "            \"function_call\": {\n",
    "                \"name\": \"get_exchange_rate\",\n",
    "            }\n",
    "        })\n",
    "    ]),\n",
    "    Content(role=\"function\", parts=[\n",
    "        Part.from_function_response(\n",
    "            name=\"get_exchange_rate\",\n",
    "            response={\n",
    "                \"content\": api_response.text,\n",
    "            }\n",
    "        )\n",
    "    ]),\n",
    "    ],\n",
    "    tools=[exchange_rate_tool],\n",
    ")"
   ]
  },
  {
   "cell_type": "markdown",
   "id": "dd95fc2d-0973-44c8-b4bb-f7193d49a9cb",
   "metadata": {
    "id": "dd95fc2d-0973-44c8-b4bb-f7193d49a9cb"
   },
   "source": [
    "**Note**: The exchange rates you will see are of the current date you are running this lab, hence they will likely differ from the exchange rates you see in the lecture video."
   ]
  },
  {
   "cell_type": "code",
   "execution_count": 22,
   "id": "68261fe3-db0e-4f17-91ce-b585bebdc441",
   "metadata": {
    "colab": {
     "base_uri": "https://localhost:8080/",
     "height": 52
    },
    "id": "68261fe3-db0e-4f17-91ce-b585bebdc441",
    "outputId": "328431a5-18ca-4d19-fa37-e9b7a5a02e97"
   },
   "outputs": [
    {
     "data": {
      "application/vnd.google.colaboratory.intrinsic+json": {
       "type": "string"
      },
      "text/plain": [
       "'The latest exchange rate is 1 Australian dollar = 6.1443 Swedish krona.  Therefore, 500 Australian dollars is worth 500 * 6.1443 = 3072.15 Swedish krona.\\n'"
      ]
     },
     "execution_count": 22,
     "metadata": {},
     "output_type": "execute_result"
    }
   ],
   "source": [
    "response.candidates[0].content.parts[0].text"
   ]
  }
 ],
 "metadata": {
  "colab": {
   "provenance": []
  },
  "environment": {
   "kernel": "python3",
   "name": "tf2-cpu.2-11.m114",
   "type": "gcloud",
   "uri": "gcr.io/deeplearning-platform-release/tf2-cpu.2-11:m114"
  },
  "kernelspec": {
   "display_name": "gc-c4",
   "language": "python",
   "name": "gc-c4"
  },
  "language_info": {
   "codemirror_mode": {
    "name": "ipython",
    "version": 3
   },
   "file_extension": ".py",
   "mimetype": "text/x-python",
   "name": "python",
   "nbconvert_exporter": "python",
   "pygments_lexer": "ipython3",
   "version": "3.10.14"
  }
 },
 "nbformat": 4,
 "nbformat_minor": 5
}
